{
 "cells": [
  {
   "cell_type": "markdown",
   "metadata": {
    "toc": true
   },
   "source": [
    "<h1>Table of Contents<span class=\"tocSkip\"></span></h1>\n",
    "<div class=\"toc\"><ul class=\"toc-item\"></ul></div>"
   ]
  },
  {
   "cell_type": "code",
   "execution_count": 5,
   "metadata": {},
   "outputs": [],
   "source": [
    "import CMGDB\n",
    "\n",
    "from sklearn.gaussian_process import GaussianProcessRegressor\n",
    "from sklearn.gaussian_process.kernels import RBF, WhiteKernel, Matern\n",
    "import matplotlib.pyplot as plt\n",
    "%matplotlib inline\n",
    "import seaborn as sns\n",
    "import time\n",
    "import numpy as np\n",
    "import math\n",
    "import csv\n",
    "import pandas as pd"
   ]
  },
  {
   "cell_type": "code",
   "execution_count": 2,
   "metadata": {},
   "outputs": [],
   "source": [
    "# Define a Gaussian process\n",
    "def GP(X_train, Y_train):\n",
    "    # fit Gaussian Process with dataset X_train, Y_train\n",
    "    kernel = RBF(0.5, (0.01, 2)) + WhiteKernel()\n",
    "    gp = GaussianProcessRegressor(kernel=kernel)\n",
    "    gp.fit(X_train, Y_train)\n",
    "    return gp"
   ]
  },
  {
   "cell_type": "code",
   "execution_count": 6,
   "metadata": {},
   "outputs": [
    {
     "data": {
      "text/html": [
       "<div>\n",
       "<style scoped>\n",
       "    .dataframe tbody tr th:only-of-type {\n",
       "        vertical-align: middle;\n",
       "    }\n",
       "\n",
       "    .dataframe tbody tr th {\n",
       "        vertical-align: top;\n",
       "    }\n",
       "\n",
       "    .dataframe thead th {\n",
       "        text-align: right;\n",
       "    }\n",
       "</style>\n",
       "<table border=\"1\" class=\"dataframe\">\n",
       "  <thead>\n",
       "    <tr style=\"text-align: right;\">\n",
       "      <th></th>\n",
       "      <th>Unnamed: 0</th>\n",
       "      <th>model_id</th>\n",
       "      <th>epoch</th>\n",
       "      <th>val_loss</th>\n",
       "      <th>bias_0</th>\n",
       "      <th>bias_1</th>\n",
       "      <th>bias_2</th>\n",
       "      <th>kernel_0</th>\n",
       "      <th>kernel_1</th>\n",
       "      <th>kernel_2</th>\n",
       "      <th>kernel_3</th>\n",
       "      <th>kernel_4</th>\n",
       "      <th>kernel_5</th>\n",
       "    </tr>\n",
       "  </thead>\n",
       "  <tbody>\n",
       "    <tr>\n",
       "      <th>0</th>\n",
       "      <td>model.8-47-0.37.hdf5</td>\n",
       "      <td>model.8</td>\n",
       "      <td>47</td>\n",
       "      <td>0.37</td>\n",
       "      <td>-0.213560</td>\n",
       "      <td>0.372687</td>\n",
       "      <td>-0.389100</td>\n",
       "      <td>-0.879271</td>\n",
       "      <td>0.412496</td>\n",
       "      <td>1.065416</td>\n",
       "      <td>-1.090442</td>\n",
       "      <td>-0.298299</td>\n",
       "      <td>1.049835</td>\n",
       "    </tr>\n",
       "    <tr>\n",
       "      <th>1</th>\n",
       "      <td>model.15-30-1.08.hdf5</td>\n",
       "      <td>model.15</td>\n",
       "      <td>30</td>\n",
       "      <td>1.08</td>\n",
       "      <td>-0.037759</td>\n",
       "      <td>0.067944</td>\n",
       "      <td>-0.008640</td>\n",
       "      <td>-0.940356</td>\n",
       "      <td>-0.572191</td>\n",
       "      <td>-0.357591</td>\n",
       "      <td>0.096327</td>\n",
       "      <td>0.009308</td>\n",
       "      <td>-0.448859</td>\n",
       "    </tr>\n",
       "    <tr>\n",
       "      <th>2</th>\n",
       "      <td>model.15-39-0.94.hdf5</td>\n",
       "      <td>model.15</td>\n",
       "      <td>39</td>\n",
       "      <td>0.94</td>\n",
       "      <td>-0.042164</td>\n",
       "      <td>0.069088</td>\n",
       "      <td>-0.005596</td>\n",
       "      <td>-1.036220</td>\n",
       "      <td>-0.538050</td>\n",
       "      <td>-0.264442</td>\n",
       "      <td>0.002151</td>\n",
       "      <td>-0.000308</td>\n",
       "      <td>-0.351811</td>\n",
       "    </tr>\n",
       "    <tr>\n",
       "      <th>3</th>\n",
       "      <td>model.13-24-1.05.hdf5</td>\n",
       "      <td>model.13</td>\n",
       "      <td>24</td>\n",
       "      <td>1.05</td>\n",
       "      <td>0.037758</td>\n",
       "      <td>-0.064688</td>\n",
       "      <td>0.034898</td>\n",
       "      <td>0.101871</td>\n",
       "      <td>0.821453</td>\n",
       "      <td>0.627956</td>\n",
       "      <td>-0.579669</td>\n",
       "      <td>0.293350</td>\n",
       "      <td>-0.712462</td>\n",
       "    </tr>\n",
       "  </tbody>\n",
       "</table>\n",
       "</div>"
      ],
      "text/plain": [
       "              Unnamed: 0  model_id  epoch  val_loss    bias_0    bias_1  \\\n",
       "0   model.8-47-0.37.hdf5   model.8     47      0.37 -0.213560  0.372687   \n",
       "1  model.15-30-1.08.hdf5  model.15     30      1.08 -0.037759  0.067944   \n",
       "2  model.15-39-0.94.hdf5  model.15     39      0.94 -0.042164  0.069088   \n",
       "3  model.13-24-1.05.hdf5  model.13     24      1.05  0.037758 -0.064688   \n",
       "\n",
       "     bias_2  kernel_0  kernel_1  kernel_2  kernel_3  kernel_4  kernel_5  \n",
       "0 -0.389100 -0.879271  0.412496  1.065416 -1.090442 -0.298299  1.049835  \n",
       "1 -0.008640 -0.940356 -0.572191 -0.357591  0.096327  0.009308 -0.448859  \n",
       "2 -0.005596 -1.036220 -0.538050 -0.264442  0.002151 -0.000308 -0.351811  \n",
       "3  0.034898  0.101871  0.821453  0.627956 -0.579669  0.293350 -0.712462  "
      ]
     },
     "execution_count": 6,
     "metadata": {},
     "output_type": "execute_result"
    }
   ],
   "source": [
    "# Load data from file\n",
    "data = pd.read_csv('/Volumes/GoogleDrive/Shared drives/Deep Chaos/data/petals_9_params/model_dynamics.csv')\n",
    "# data = np.loadtxt('PO_100.dat')\n",
    "data.head(4)"
   ]
  },
  {
   "cell_type": "code",
   "execution_count": 11,
   "metadata": {},
   "outputs": [
    {
     "name": "stdout",
     "output_type": "stream",
     "text": [
      "Index(['Unnamed: 0', 'model_id', 'epoch', 'val_loss', 'bias_0', 'bias_1',\n",
      "       'bias_2', 'kernel_0', 'kernel_1', 'kernel_2', 'kernel_3', 'kernel_4',\n",
      "       'kernel_5'],\n",
      "      dtype='object')\n",
      "50\n"
     ]
    }
   ],
   "source": [
    "print(data.columns)\n",
    "print(data['epoch'].max())"
   ]
  },
  {
   "cell_type": "code",
   "execution_count": 17,
   "metadata": {},
   "outputs": [],
   "source": [
    "X=data.loc[data['epoch']==1,['kernel_0', 'kernel_1', 'kernel_2', 'kernel_3', 'kernel_4','kernel_5']].to_numpy()\n",
    "Y=data.loc[data['epoch']==50,['kernel_0', 'kernel_1', 'kernel_2', 'kernel_3', 'kernel_4','kernel_5']].to_numpy()"
   ]
  },
  {
   "cell_type": "code",
   "execution_count": 20,
   "metadata": {},
   "outputs": [
    {
     "data": {
      "image/png": "[encoded data removed]",
      "text/plain": [
       "<Figure size 432x288 with 1 Axes>"
      ]
     },
     "metadata": {
      "needs_background": "light"
     },
     "output_type": "display_data"
    }
   ],
   "source": [
    "# Plot data\n",
    "plt.plot(X[:,0], X[:,1], 'ro', Y[:,0], Y[:,1], 'b*');"
   ]
  },
  {
   "cell_type": "code",
   "execution_count": 26,
   "metadata": {},
   "outputs": [
    {
     "data": {
      "text/plain": [
       "array([ 0.23047538,  0.8678292 , -0.04613739, -0.9656288 ,  0.9838286 ,\n",
       "        0.90116692])"
      ]
     },
     "execution_count": 26,
     "metadata": {},
     "output_type": "execute_result"
    }
   ],
   "source": [
    "X[0]"
   ]
  },
  {
   "cell_type": "code",
   "execution_count": 21,
   "metadata": {},
   "outputs": [],
   "source": [
    "# Train a GP with the data above\n",
    "gp = GP(X, Y)"
   ]
  },
  {
   "cell_type": "code",
   "execution_count": 22,
   "metadata": {},
   "outputs": [],
   "source": [
    "# Use the GP to define a map F\n",
    "# Notice that the GP takes lists as\n",
    "# input and output, so we need to\n",
    "# add the [] below\n",
    "def F(X):\n",
    "    return gp.predict([X])[0]"
   ]
  },
  {
   "cell_type": "markdown",
   "metadata": {},
   "source": [
    "Now we can use the map F above to compute the Morse graph"
   ]
  },
  {
   "cell_type": "code",
   "execution_count": 27,
   "metadata": {},
   "outputs": [],
   "source": [
    "# Define the parameters for CMGDB\n",
    "lower_bounds = [data[x].min()-0.5 for x in data.columns if 'kernel' in x]\n",
    "upper_bounds = [data[x].max()+0.5 for x in data.columns if 'kernel' in x]\n",
    "\n",
    "phase_subdiv = 30\n",
    "\n",
    "morse_fname = 'morse_sets.csv'"
   ]
  },
  {
   "cell_type": "code",
   "execution_count": 28,
   "metadata": {},
   "outputs": [
    {
     "data": {
      "text/plain": [
       "([-2.069939970970154,\n",
       "  -1.357827365398407,\n",
       "  -1.5402458906173706,\n",
       "  -2.031580090522766,\n",
       "  -1.6000906229019165,\n",
       "  -1.5092967748641968],\n",
       " [1.2509790658950806,\n",
       "  2.0141475200653076,\n",
       "  2.057006359100342,\n",
       "  1.4733367562294006,\n",
       "  1.483828604221344,\n",
       "  1.9103798866271973])"
      ]
     },
     "execution_count": 28,
     "metadata": {},
     "output_type": "execute_result"
    }
   ],
   "source": [
    "lower_bounds,upper_bounds"
   ]
  },
  {
   "cell_type": "code",
   "execution_count": 29,
   "metadata": {},
   "outputs": [
    {
     "name": "stdout",
     "output_type": "stream",
     "text": [
      "CPU times: user 1h 32min 47s, sys: 30.2 s, total: 1h 33min 17s\n",
      "Wall time: 1h 33min 14s\n"
     ]
    }
   ],
   "source": [
    "%%time\n",
    "model = CMGDB.Model(phase_subdiv, lower_bounds, upper_bounds, F)\n",
    "morse_graph, map_graph = CMGDB.ComputeMorseGraph(model)"
   ]
  },
  {
   "cell_type": "code",
   "execution_count": 30,
   "metadata": {},
   "outputs": [
    {
     "data": {
      "image/svg+xml": [
       "<?xml version=\"1.0\" encoding=\"UTF-8\" standalone=\"no\"?>\n",
       "<!DOCTYPE svg PUBLIC \"-//W3C//DTD SVG 1.1//EN\"\n",
       " \"http://www.w3.org/Graphics/SVG/1.1/DTD/svg11.dtd\">\n",
       "<!-- Generated by graphviz version 2.44.1 (20200629.0846)\n",
       " -->\n",
       "<!-- Pages: 1 -->\n",
       "<svg width=\"62pt\" height=\"44pt\"\n",
       " viewBox=\"0.00 0.00 62.00 44.00\" xmlns=\"http://www.w3.org/2000/svg\" xmlns:xlink=\"http://www.w3.org/1999/xlink\">\n",
       "<g id=\"graph0\" class=\"graph\" transform=\"scale(1 1) rotate(0) translate(4 40)\">\n",
       "<polygon fill=\"white\" stroke=\"transparent\" points=\"-4,4 -4,-40 58,-40 58,4 -4,4\"/>\n",
       "<!-- 0 -->\n",
       "<g id=\"node1\" class=\"node\">\n",
       "<title>0</title>\n",
       "<ellipse fill=\"#0000ff\" stroke=\"black\" cx=\"27\" cy=\"-18\" rx=\"27\" ry=\"18\"/>\n",
       "<text text-anchor=\"middle\" x=\"27\" y=\"-14.3\" font-family=\"Times,serif\" font-size=\"14.00\">0</text>\n",
       "</g>\n",
       "</g>\n",
       "</svg>\n"
      ],
      "text/plain": [
       "<graphviz.files.Source at 0x7fa7543ab550>"
      ]
     },
     "execution_count": 30,
     "metadata": {},
     "output_type": "execute_result"
    }
   ],
   "source": [
    "# Plot Morse graph\n",
    "CMGDB.PlotMorseGraph(morse_graph)"
   ]
  },
  {
   "cell_type": "code",
   "execution_count": 36,
   "metadata": {},
   "outputs": [
    {
     "data": {
      "image/png": "[encoded data removed]",
      "text/plain": [
       "<Figure size 800x800 with 1 Axes>"
      ]
     },
     "metadata": {
      "needs_background": "light"
     },
     "output_type": "display_data"
    }
   ],
   "source": [
    "# Plot Morse sets\n",
    "CMGDB.PlotMorseSets(morse_fname,proj_dims=[0,1])"
   ]
  },
  {
   "cell_type": "code",
   "execution_count": null,
   "metadata": {},
   "outputs": [],
   "source": []
  }
 ],
 "metadata": {
  "kernelspec": {
   "display_name": "Python 3",
   "language": "python",
   "name": "python3"
  },
  "language_info": {
   "codemirror_mode": {
    "name": "ipython",
    "version": 3
   },
   "file_extension": ".py",
   "mimetype": "text/x-python",
   "name": "python",
   "nbconvert_exporter": "python",
   "pygments_lexer": "ipython3",
   "version": "3.6.6"
  },
  "toc": {
   "base_numbering": 1,
   "nav_menu": {},
   "number_sections": true,
   "sideBar": true,
   "skip_h1_title": false,
   "title_cell": "Table of Contents",
   "title_sidebar": "Contents",
   "toc_cell": true,
   "toc_position": {},
   "toc_section_display": true,
   "toc_window_display": false
  }
 },
 "nbformat": 4,
 "nbformat_minor": 2
}
