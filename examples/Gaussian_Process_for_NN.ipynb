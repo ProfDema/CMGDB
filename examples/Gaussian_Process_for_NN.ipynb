{
 "cells": [
  {
   "cell_type": "markdown",
   "metadata": {
    "toc": true
   },
   "source": [
    "<h1>Table of Contents<span class=\"tocSkip\"></span></h1>\n",
    "<div class=\"toc\"><ul class=\"toc-item\"><li><span><a href=\"#Generate-Iris-data-for-model\" data-toc-modified-id=\"Generate-Iris-data-for-model-1\"><span class=\"toc-item-num\">1&nbsp;&nbsp;</span>Generate Iris data for model</a></span></li><li><span><a href=\"#Define-Model\" data-toc-modified-id=\"Define-Model-2\"><span class=\"toc-item-num\">2&nbsp;&nbsp;</span>Define Model</a></span></li><li><span><a href=\"#Train-model-and-write-out-Predictions\" data-toc-modified-id=\"Train-model-and-write-out-Predictions-3\"><span class=\"toc-item-num\">3&nbsp;&nbsp;</span>Train model and write out Predictions</a></span></li><li><span><a href=\"#Extract-model-weight-dynamics\" data-toc-modified-id=\"Extract-model-weight-dynamics-4\"><span class=\"toc-item-num\">4&nbsp;&nbsp;</span>Extract model weight dynamics</a></span></li><li><span><a href=\"#Analyze-Model-Dynamics-with-Gaussian-Process\" data-toc-modified-id=\"Analyze-Model-Dynamics-with-Gaussian-Process-5\"><span class=\"toc-item-num\">5&nbsp;&nbsp;</span>Analyze Model Dynamics with Gaussian Process</a></span></li><li><span><a href=\"#Use-the-map-F-above-to-compute-the-Morse-graph\" data-toc-modified-id=\"Use-the-map-F-above-to-compute-the-Morse-graph-6\"><span class=\"toc-item-num\">6&nbsp;&nbsp;</span>Use the map F above to compute the Morse graph</a></span></li></ul></div>"
   ]
  },
  {
   "cell_type": "code",
<<<<<<< HEAD
   "execution_count": 5,
=======
   "execution_count": 1,
>>>>>>> combined neural network dynamics extraction with morse graph computation
   "metadata": {},
   "outputs": [],
   "source": [
    "import CMGDB\n",
    "\n",
    "from sklearn.gaussian_process import GaussianProcessRegressor\n",
    "from sklearn.gaussian_process.kernels import RBF, WhiteKernel, Matern\n",
    "import matplotlib.pyplot as plt\n",
    "%matplotlib inline\n",
    "import seaborn as sns\n",
    "import time\n",
    "import numpy as np\n",
    "import math\n",
    "import csv\n",
    "import pandas as pd\n",
    "\n"
   ]
  },
  {
   "cell_type": "markdown",
   "metadata": {},
   "source": [
    "# Generate Iris data for model"
   ]
  },
  {
   "cell_type": "code",
   "execution_count": 2,
   "metadata": {},
   "outputs": [],
   "source": [
    "from sklearn.datasets import load_iris\n",
    "from sklearn.model_selection import train_test_split\n",
    "from sklearn.preprocessing import OneHotEncoder, StandardScaler\n",
    "\n",
    "iris = load_iris()\n",
    "X = iris['data']\n",
    "y = iris['target']\n",
    "names = iris['target_names']\n",
    "feature_names = iris['feature_names']\n",
    "\n",
    "def create_train_test(X,y):\n",
    "    # One hot encoding\n",
    "    enc = OneHotEncoder()\n",
    "    Y = enc.fit_transform(y[:, np.newaxis]).toarray()\n",
    "\n",
    "    # Scale data to have mean 0 and variance 1 \n",
    "    # which is importance for convergence of the neural network\n",
    "    scaler = StandardScaler()\n",
    "    X_scaled = scaler.fit_transform(X)\n",
    "\n",
    "    # Split the data set into training and testing\n",
    "    X_train, X_test, Y_train, Y_test = train_test_split(\n",
    "        X_scaled, Y, test_size=0.5, random_state=2)\n",
    "    return X_train, X_test, Y_train, Y_test"
   ]
  },
  {
   "cell_type": "code",
   "execution_count": 3,
   "metadata": {},
   "outputs": [
    {
     "data": {
      "image/png": "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\n",
      "text/plain": [
       "<Figure size 1152x432 with 2 Axes>"
      ]
     },
     "metadata": {
      "needs_background": "light"
     },
     "output_type": "display_data"
    }
   ],
   "source": [
    "# Visualize the data sets\n",
    "plt.figure(figsize=(16, 6))\n",
    "plt.subplot(1, 2, 1)\n",
    "for target, target_name in enumerate(names):\n",
    "    X_plot = X[y == target]\n",
    "    plt.plot(X_plot[:, 0], X_plot[:, 1], linestyle='none', marker='o', label=target_name)\n",
    "plt.xlabel(feature_names[0])\n",
    "plt.ylabel(feature_names[1])\n",
    "plt.axis('equal')\n",
    "plt.legend();\n",
    "\n",
    "plt.subplot(1, 2, 2)\n",
    "for target, target_name in enumerate(names):\n",
    "    X_plot = X[y == target]\n",
    "    plt.plot(X_plot[:, 2], X_plot[:, 3], linestyle='none', marker='o', label=target_name)\n",
    "plt.xlabel(feature_names[2])\n",
    "plt.ylabel(feature_names[3])\n",
    "plt.axis('equal')\n",
    "plt.legend();"
   ]
  },
  {
   "cell_type": "markdown",
   "metadata": {},
   "source": [
    "# Define Model"
   ]
  },
  {
   "cell_type": "code",
   "execution_count": 4,
   "metadata": {},
   "outputs": [
    {
     "name": "stdout",
     "output_type": "stream",
     "text": [
      "X (75, 2) (75, 2)\n",
      "Y (75, 3) (75, 3)\n",
      "_________________________________________________________________\n",
      "Layer (type)                 Output Shape              Param #   \n",
      "=================================================================\n",
      "dense_1 (Dense)              (None, 3)                 9         \n",
      "=================================================================\n",
      "Total params: 9\n",
      "Trainable params: 9\n",
      "Non-trainable params: 0\n",
      "_________________________________________________________________\n"
     ]
    },
    {
     "name": "stderr",
     "output_type": "stream",
     "text": [
      "Using TensorFlow backend.\n"
     ]
    }
   ],
   "source": [
    "# In order to ignore FutureWarning\n",
    "import warnings\n",
    "warnings.simplefilter(action='ignore', category=FutureWarning)\n",
    "from tensorflow.keras import initializers\n",
    "\n",
    "from keras.models import Sequential\n",
    "from keras.layers import Dense\n",
    "\n",
    "X_train, X_test, Y_train, Y_test = create_train_test(X[:,[2,3]],y)\n",
    "\n",
    "print(\"X\",X_train.shape,X_test.shape)\n",
    "print(\"Y\",Y_train.shape,Y_test.shape)\n",
    "initializer = initializers.RandomUniform(minval=-2, maxval=2, seed=None)\n",
    "\n",
    "# define baseline model\n",
    "def baseline_model(name):\n",
    "    # create model\n",
    "    model = Sequential(name=name)\n",
    "    model.add(Dense(3, input_dim=X_train.shape[1],activation='softmax',kernel_initializer=initializer))\n",
    "    # Compile model\n",
    "    model.compile(loss='categorical_crossentropy', optimizer='adam', metrics=['accuracy'])\n",
    "    return model\n",
    "\n",
    "baseline_model('model_test').summary()"
   ]
  },
  {
   "cell_type": "markdown",
   "metadata": {},
   "source": [
    "# Train model and write out Predictions"
   ]
  },
  {
   "cell_type": "code",
   "execution_count": null,
   "metadata": {},
   "outputs": [],
   "source": [
    "\n",
    "##Update this to your own path\n",
    "dirpath = '/Users/meslami/Documents/GitRepos/deep_chaos/data/logs/cp_larger_random_weights'\n",
    "\n",
    "Y_preds = []\n",
    "for i in range(100): #--> number of iterations\n",
    "    name = 'model.'+str(i)\n",
    "    cb_mc = ModelCheckpoint(os.path.join(dirpath,\n",
    "                                         name+'-'+'{epoch:02d}-{val_loss:.2f}.hdf5'),\n",
    "                            verbose=1,save_weights_only=True,)\n",
    "    model = baseline_model(name)\n",
    "    history_callback = model.fit(X_train, Y_train,batch_size=5,epochs=150,verbose=0,validation_data=(X_test, Y_test),callbacks=[cb_mc])\n",
    "    score = model.evaluate(X_test, Y_test, verbose=0)\n",
    "    Y_pred = pd.DataFrame(model.predict(X_test),columns=['p1','p2','p3'])\n",
    "    Y_pred['class'] = Y_pred.idxmax(axis=1)\n",
    "    Y_pred['model']=name\n",
    "    Y_preds.append(Y_pred)\n",
    "Y_predsDF = pd.concat(Y_preds)\n",
    "Y_predsDF.to_csv(os.path.join(dirpath,'petal_predictions.csv')"
   ]
  },
  {
   "cell_type": "code",
   "execution_count": null,
   "metadata": {},
   "outputs": [],
   "source": [
    "X_testDF = pd.DataFrame(X_test,columns=['feature1','feature2'])\n",
    "Y_testDF = pd.DataFrame(Y_test,columns=['p1','p2','p3'])\n",
    "Y_testDF['class_actual']=Y_testDF.idxmax(axis=1)\n",
    "testDF =X_testDF.merge(Y_testDF,left_index=True,right_index=True)\n",
    "testDF.drop(['p1','p2','p3'],axis=1,inplace=True)\n",
    "Y_predsDF2=Y_predsDF.merge(testDF,left_index=True,right_index=True)\n",
    "\n",
    "Y_predsDF2.to_csv(os.path.join(dirpath,'petal_predictions.csv')"
   ]
  },
  {
   "cell_type": "markdown",
   "metadata": {},
   "source": [
    "# Extract model weight dynamics"
   ]
  },
  {
   "cell_type": "code",
   "execution_count": null,
   "metadata": {},
   "outputs": [],
   "source": [
    "import os, h5py\n",
    "def get_bias(name):\n",
    "    if 'bias' in name:\n",
    "        print(name)\n",
    "        return name\n",
    "\n",
    "def get_kernel(name):\n",
    "    if 'kernel' in name:\n",
    "        print(name)\n",
    "        return name\n",
    "    \n",
    "model_weights={}\n",
    "for fname in os.listdir(dirpath):\n",
    "    if 'hdf5' in fname:\n",
    "        print(fname)\n",
    "        f = h5py.File(os.path.join(dirpath,fname) 'r')\n",
    "        model_weights[fname]={}\n",
    "#         model_weights[fname]['model_id']=fname[:-5]\n",
    "        model_weights[fname]['model_id']=fname.split('-')[0]\n",
    "        model_weights[fname]['epoch']=fname.split('-')[1]\n",
    "        model_weights[fname]['val_loss']=fname.split('-')[2].replace('.hdf5','')\n",
    "        bias_name = f.visit(get_bias)\n",
    "        model_weights[fname]['bias']=f[bias_name][:]\n",
    "        kernel_name = f.visit(get_kernel)\n",
    "        model_weights[fname]['kernel']=f[kernel_name][:]\n",
    "        \n",
    "df_weights = pd.DataFrame.from_dict(model_weights).T\n",
    "\n",
    "def flatten_array(kk):\n",
    "    flat_list = [item for sublist in kk for item in sublist]\n",
    "    return flat_list\n",
    "\n",
    "def explode_to_cols(df,col_name):\n",
    "    if len(df[col_name].iloc[0].shape)>1:\n",
    "        df[col_name]=df[col_name].apply(flatten_array)\n",
    "    return pd.DataFrame(df[col_name].tolist(),index=df.index,columns=[col_name+'_'+str(i) for i in range(len(df[col_name].iloc[0]))])\n",
    "\n",
    "df_bias = explode_to_cols(df_weights,'bias')\n",
    "df_kernel = explode_to_cols(df_weights,'kernel')\n",
    "\n",
    "df_tot = pd.concat([df_weights,df_bias,df_kernel],axis=1,join='inner')\n",
    "\n",
    "df_tot.drop(['bias','kernel'],axis=1,inplace=True)\n",
    "\n",
    "#Write model dynamics out to file used by next section\n",
    "df_tot.to_csv('/Volumes/GoogleDrive/Shared drives/Deep Chaos/data/petals_9_params/model_dynamics.csv') #--> file to read in"
   ]
  },
  {
   "cell_type": "markdown",
   "metadata": {},
   "source": [
    "# Analyze Model Dynamics with Gaussian Process"
   ]
  },
  {
   "cell_type": "code",
   "execution_count": 2,
   "metadata": {},
   "outputs": [],
   "source": [
    "# Define a Gaussian process\n",
    "def GP(X_train, Y_train):\n",
    "    # fit Gaussian Process with dataset X_train, Y_train\n",
    "    kernel = RBF(0.5, (0.01, 2)) + WhiteKernel()\n",
    "    gp = GaussianProcessRegressor(kernel=kernel)\n",
    "    gp.fit(X_train, Y_train)\n",
    "    return gp"
   ]
  },
  {
   "cell_type": "code",
   "execution_count": 6,
   "metadata": {},
   "outputs": [
    {
     "data": {
      "text/html": [
       "<div>\n",
       "<style scoped>\n",
       "    .dataframe tbody tr th:only-of-type {\n",
       "        vertical-align: middle;\n",
       "    }\n",
       "\n",
       "    .dataframe tbody tr th {\n",
       "        vertical-align: top;\n",
       "    }\n",
       "\n",
       "    .dataframe thead th {\n",
       "        text-align: right;\n",
       "    }\n",
       "</style>\n",
       "<table border=\"1\" class=\"dataframe\">\n",
       "  <thead>\n",
       "    <tr style=\"text-align: right;\">\n",
       "      <th></th>\n",
       "      <th>Unnamed: 0</th>\n",
       "      <th>model_id</th>\n",
       "      <th>epoch</th>\n",
       "      <th>val_loss</th>\n",
       "      <th>bias_0</th>\n",
       "      <th>bias_1</th>\n",
       "      <th>bias_2</th>\n",
       "      <th>kernel_0</th>\n",
       "      <th>kernel_1</th>\n",
       "      <th>kernel_2</th>\n",
       "      <th>kernel_3</th>\n",
       "      <th>kernel_4</th>\n",
       "      <th>kernel_5</th>\n",
       "    </tr>\n",
       "  </thead>\n",
       "  <tbody>\n",
       "    <tr>\n",
       "      <th>0</th>\n",
       "      <td>model.8-47-0.37.hdf5</td>\n",
       "      <td>model.8</td>\n",
       "      <td>47</td>\n",
       "      <td>0.37</td>\n",
       "      <td>-0.213560</td>\n",
       "      <td>0.372687</td>\n",
       "      <td>-0.389100</td>\n",
       "      <td>-0.879271</td>\n",
       "      <td>0.412496</td>\n",
       "      <td>1.065416</td>\n",
       "      <td>-1.090442</td>\n",
       "      <td>-0.298299</td>\n",
       "      <td>1.049835</td>\n",
       "    </tr>\n",
       "    <tr>\n",
       "      <th>1</th>\n",
       "      <td>model.15-30-1.08.hdf5</td>\n",
       "      <td>model.15</td>\n",
       "      <td>30</td>\n",
       "      <td>1.08</td>\n",
       "      <td>-0.037759</td>\n",
       "      <td>0.067944</td>\n",
       "      <td>-0.008640</td>\n",
       "      <td>-0.940356</td>\n",
       "      <td>-0.572191</td>\n",
       "      <td>-0.357591</td>\n",
       "      <td>0.096327</td>\n",
       "      <td>0.009308</td>\n",
       "      <td>-0.448859</td>\n",
       "    </tr>\n",
       "    <tr>\n",
       "      <th>2</th>\n",
       "      <td>model.15-39-0.94.hdf5</td>\n",
       "      <td>model.15</td>\n",
       "      <td>39</td>\n",
       "      <td>0.94</td>\n",
       "      <td>-0.042164</td>\n",
       "      <td>0.069088</td>\n",
       "      <td>-0.005596</td>\n",
       "      <td>-1.036220</td>\n",
       "      <td>-0.538050</td>\n",
       "      <td>-0.264442</td>\n",
       "      <td>0.002151</td>\n",
       "      <td>-0.000308</td>\n",
       "      <td>-0.351811</td>\n",
       "    </tr>\n",
       "    <tr>\n",
       "      <th>3</th>\n",
       "      <td>model.13-24-1.05.hdf5</td>\n",
       "      <td>model.13</td>\n",
       "      <td>24</td>\n",
       "      <td>1.05</td>\n",
       "      <td>0.037758</td>\n",
       "      <td>-0.064688</td>\n",
       "      <td>0.034898</td>\n",
       "      <td>0.101871</td>\n",
       "      <td>0.821453</td>\n",
       "      <td>0.627956</td>\n",
       "      <td>-0.579669</td>\n",
       "      <td>0.293350</td>\n",
       "      <td>-0.712462</td>\n",
       "    </tr>\n",
       "  </tbody>\n",
       "</table>\n",
       "</div>"
      ],
      "text/plain": [
       "              Unnamed: 0  model_id  epoch  val_loss    bias_0    bias_1  \\\n",
       "0   model.8-47-0.37.hdf5   model.8     47      0.37 -0.213560  0.372687   \n",
       "1  model.15-30-1.08.hdf5  model.15     30      1.08 -0.037759  0.067944   \n",
       "2  model.15-39-0.94.hdf5  model.15     39      0.94 -0.042164  0.069088   \n",
       "3  model.13-24-1.05.hdf5  model.13     24      1.05  0.037758 -0.064688   \n",
       "\n",
       "     bias_2  kernel_0  kernel_1  kernel_2  kernel_3  kernel_4  kernel_5  \n",
       "0 -0.389100 -0.879271  0.412496  1.065416 -1.090442 -0.298299  1.049835  \n",
       "1 -0.008640 -0.940356 -0.572191 -0.357591  0.096327  0.009308 -0.448859  \n",
       "2 -0.005596 -1.036220 -0.538050 -0.264442  0.002151 -0.000308 -0.351811  \n",
       "3  0.034898  0.101871  0.821453  0.627956 -0.579669  0.293350 -0.712462  "
      ]
     },
     "execution_count": 6,
     "metadata": {},
     "output_type": "execute_result"
    }
   ],
   "source": [
    "# Load data from file\n",
    "data = pd.read_csv('/Volumes/GoogleDrive/Shared drives/Deep Chaos/data/petals_9_params/model_dynamics.csv')\n",
    "# data = np.loadtxt('PO_100.dat')\n",
    "data.head(4)"
   ]
  },
  {
   "cell_type": "code",
   "execution_count": 11,
   "metadata": {},
   "outputs": [
    {
     "name": "stdout",
     "output_type": "stream",
     "text": [
      "Index(['Unnamed: 0', 'model_id', 'epoch', 'val_loss', 'bias_0', 'bias_1',\n",
      "       'bias_2', 'kernel_0', 'kernel_1', 'kernel_2', 'kernel_3', 'kernel_4',\n",
      "       'kernel_5'],\n",
      "      dtype='object')\n",
      "50\n"
     ]
    }
   ],
   "source": [
    "print(data.columns)\n",
    "print(data['epoch'].max())"
   ]
  },
  {
   "cell_type": "code",
   "execution_count": 17,
   "metadata": {},
   "outputs": [],
   "source": [
    "X=data.loc[data['epoch']==1,['kernel_0', 'kernel_1', 'kernel_2', 'kernel_3', 'kernel_4','kernel_5']].to_numpy()\n",
    "Y=data.loc[data['epoch']==50,['kernel_0', 'kernel_1', 'kernel_2', 'kernel_3', 'kernel_4','kernel_5']].to_numpy()"
   ]
  },
  {
   "cell_type": "code",
   "execution_count": 20,
   "metadata": {},
   "outputs": [
    {
     "data": {
      "image/png": "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\n",
      "text/plain": [
       "<Figure size 432x288 with 1 Axes>"
      ]
     },
     "metadata": {
      "needs_background": "light"
     },
     "output_type": "display_data"
    }
   ],
   "source": [
    "# Plot data\n",
    "plt.plot(X[:,0], X[:,1], 'ro', Y[:,0], Y[:,1], 'b*');"
   ]
  },
  {
   "cell_type": "code",
   "execution_count": 26,
   "metadata": {},
   "outputs": [
    {
     "data": {
      "text/plain": [
       "array([ 0.23047538,  0.8678292 , -0.04613739, -0.9656288 ,  0.9838286 ,\n",
       "        0.90116692])"
      ]
     },
     "execution_count": 26,
     "metadata": {},
     "output_type": "execute_result"
    }
   ],
   "source": [
    "X[0]"
   ]
  },
  {
   "cell_type": "code",
   "execution_count": 21,
   "metadata": {},
   "outputs": [],
   "source": [
    "# Train a GP with the data above\n",
    "gp = GP(X, Y)"
   ]
  },
  {
   "cell_type": "code",
   "execution_count": 22,
   "metadata": {},
   "outputs": [],
   "source": [
    "# Use the GP to define a map F\n",
    "# Notice that the GP takes lists as\n",
    "# input and output, so we need to\n",
    "# add the [] below\n",
    "def F(X):\n",
    "    return gp.predict([X])[0]"
   ]
  },
  {
   "cell_type": "markdown",
   "metadata": {},
   "source": [
    "# Use the map F above to compute the Morse graph"
   ]
  },
  {
   "cell_type": "code",
   "execution_count": 27,
   "metadata": {},
   "outputs": [],
   "source": [
    "# Define the parameters for CMGDB\n",
    "lower_bounds = [data[x].min()-0.5 for x in data.columns if 'kernel' in x]\n",
    "upper_bounds = [data[x].max()+0.5 for x in data.columns if 'kernel' in x]\n",
    "\n",
    "phase_subdiv = 30\n",
    "\n",
    "morse_fname = 'morse_sets.csv'"
   ]
  },
  {
   "cell_type": "code",
   "execution_count": 28,
   "metadata": {},
   "outputs": [
    {
     "data": {
      "text/plain": [
       "([-2.069939970970154,\n",
       "  -1.357827365398407,\n",
       "  -1.5402458906173706,\n",
       "  -2.031580090522766,\n",
       "  -1.6000906229019165,\n",
       "  -1.5092967748641968],\n",
       " [1.2509790658950806,\n",
       "  2.0141475200653076,\n",
       "  2.057006359100342,\n",
       "  1.4733367562294006,\n",
       "  1.483828604221344,\n",
       "  1.9103798866271973])"
      ]
     },
     "execution_count": 28,
     "metadata": {},
     "output_type": "execute_result"
    }
   ],
   "source": [
    "lower_bounds,upper_bounds"
   ]
  },
  {
   "cell_type": "code",
   "execution_count": 29,
   "metadata": {},
   "outputs": [
    {
     "name": "stdout",
     "output_type": "stream",
     "text": [
      "CPU times: user 1h 32min 47s, sys: 30.2 s, total: 1h 33min 17s\n",
      "Wall time: 1h 33min 14s\n"
     ]
    }
   ],
   "source": [
    "%%time\n",
    "model = CMGDB.Model(phase_subdiv, lower_bounds, upper_bounds, F)\n",
    "morse_graph, map_graph = CMGDB.ComputeMorseGraph(model)"
   ]
  },
  {
   "cell_type": "code",
   "execution_count": 30,
   "metadata": {},
   "outputs": [
    {
     "data": {
      "image/svg+xml": [
       "<?xml version=\"1.0\" encoding=\"UTF-8\" standalone=\"no\"?>\n",
       "<!DOCTYPE svg PUBLIC \"-//W3C//DTD SVG 1.1//EN\"\n",
       " \"http://www.w3.org/Graphics/SVG/1.1/DTD/svg11.dtd\">\n",
       "<!-- Generated by graphviz version 2.44.1 (20200629.0846)\n",
       " -->\n",
       "<!-- Pages: 1 -->\n",
       "<svg width=\"62pt\" height=\"44pt\"\n",
       " viewBox=\"0.00 0.00 62.00 44.00\" xmlns=\"http://www.w3.org/2000/svg\" xmlns:xlink=\"http://www.w3.org/1999/xlink\">\n",
       "<g id=\"graph0\" class=\"graph\" transform=\"scale(1 1) rotate(0) translate(4 40)\">\n",
       "<polygon fill=\"white\" stroke=\"transparent\" points=\"-4,4 -4,-40 58,-40 58,4 -4,4\"/>\n",
       "<!-- 0 -->\n",
       "<g id=\"node1\" class=\"node\">\n",
       "<title>0</title>\n",
       "<ellipse fill=\"#0000ff\" stroke=\"black\" cx=\"27\" cy=\"-18\" rx=\"27\" ry=\"18\"/>\n",
       "<text text-anchor=\"middle\" x=\"27\" y=\"-14.3\" font-family=\"Times,serif\" font-size=\"14.00\">0</text>\n",
       "</g>\n",
       "</g>\n",
       "</svg>\n"
      ],
      "text/plain": [
       "<graphviz.files.Source at 0x7fa7543ab550>"
      ]
     },
     "execution_count": 30,
     "metadata": {},
     "output_type": "execute_result"
    }
   ],
   "source": [
    "# Plot Morse graph\n",
    "CMGDB.PlotMorseGraph(morse_graph)"
   ]
  },
  {
   "cell_type": "code",
   "execution_count": 36,
   "metadata": {},
   "outputs": [
    {
     "data": {
      "image/png": "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\n",
      "text/plain": [
       "<Figure size 800x800 with 1 Axes>"
      ]
     },
     "metadata": {
      "needs_background": "light"
     },
     "output_type": "display_data"
    }
   ],
   "source": [
    "# Plot Morse sets\n",
    "CMGDB.PlotMorseSets(morse_fname,proj_dims=[0,1])"
   ]
  },
  {
   "cell_type": "code",
   "execution_count": null,
   "metadata": {},
   "outputs": [],
   "source": []
  }
 ],
 "metadata": {
  "kernelspec": {
   "display_name": "Python 3",
   "language": "python",
   "name": "python3"
  },
  "language_info": {
   "codemirror_mode": {
    "name": "ipython",
    "version": 3
   },
   "file_extension": ".py",
   "mimetype": "text/x-python",
   "name": "python",
   "nbconvert_exporter": "python",
   "pygments_lexer": "ipython3",
   "version": "3.6.6"
  },
  "toc": {
   "base_numbering": 1,
   "nav_menu": {},
   "number_sections": true,
   "sideBar": true,
   "skip_h1_title": false,
   "title_cell": "Table of Contents",
   "title_sidebar": "Contents",
   "toc_cell": true,
   "toc_position": {},
   "toc_section_display": true,
   "toc_window_display": false
  }
 },
 "nbformat": 4,
 "nbformat_minor": 2
}
