{
 "cells": [
  {
   "cell_type": "markdown",
   "metadata": {
    "toc": true
   },
   "source": [
    "<h1>Table of Contents<span class=\"tocSkip\"></span></h1>\n",
    "<div class=\"toc\"><ul class=\"toc-item\"><li><span><a href=\"#Generate-Iris-data-for-model\" data-toc-modified-id=\"Generate-Iris-data-for-model-1\"><span class=\"toc-item-num\">1&nbsp;&nbsp;</span>Generate Iris data for model</a></span></li><li><span><a href=\"#Define-Model\" data-toc-modified-id=\"Define-Model-2\"><span class=\"toc-item-num\">2&nbsp;&nbsp;</span>Define Model</a></span></li><li><span><a href=\"#Train-model-and-write-out-Predictions\" data-toc-modified-id=\"Train-model-and-write-out-Predictions-3\"><span class=\"toc-item-num\">3&nbsp;&nbsp;</span>Train model and write out Predictions</a></span></li><li><span><a href=\"#Extract-model-weight-dynamics\" data-toc-modified-id=\"Extract-model-weight-dynamics-4\"><span class=\"toc-item-num\">4&nbsp;&nbsp;</span>Extract model weight dynamics</a></span></li><li><span><a href=\"#Analyze-Model-Dynamics-with-Gaussian-Process\" data-toc-modified-id=\"Analyze-Model-Dynamics-with-Gaussian-Process-5\"><span class=\"toc-item-num\">5&nbsp;&nbsp;</span>Analyze Model Dynamics with Gaussian Process</a></span></li><li><span><a href=\"#Use-the-map-F-above-to-compute-the-Morse-graph\" data-toc-modified-id=\"Use-the-map-F-above-to-compute-the-Morse-graph-6\"><span class=\"toc-item-num\">6&nbsp;&nbsp;</span>Use the map F above to compute the Morse graph</a></span></li></ul></div>"
   ]
  },
  {
   "cell_type": "code",
   "execution_count": 1,
   "metadata": {},
   "outputs": [],
   "source": [
    "import CMGDB\n",
    "\n",
    "from sklearn.gaussian_process import GaussianProcessRegressor\n",
    "from sklearn.gaussian_process.kernels import RBF, WhiteKernel, Matern\n",
    "import matplotlib.pyplot as plt\n",
    "%matplotlib inline\n",
    "import seaborn as sns\n",
    "import time\n",
    "import numpy as np\n",
    "import math\n",
    "import csv\n",
    "import pandas as pd\n",
    "\n"
   ]
  },
  {
   "cell_type": "markdown",
   "metadata": {},
   "source": [
    "# Generate Iris data for model"
   ]
  },
  {
   "cell_type": "code",
   "execution_count": 2,
   "metadata": {},
   "outputs": [],
   "source": [
    "from sklearn.datasets import load_iris\n",
    "from sklearn.model_selection import train_test_split\n",
    "from sklearn.preprocessing import OneHotEncoder, StandardScaler\n",
    "\n",
    "iris = load_iris()\n",
    "X = iris['data']\n",
    "y = iris['target']\n",
    "names = iris['target_names']\n",
    "feature_names = iris['feature_names']\n",
    "\n",
    "def create_train_test(X,y):\n",
    "    # One hot encoding\n",
    "    enc = OneHotEncoder()\n",
    "    Y = enc.fit_transform(y[:, np.newaxis]).toarray()\n",
    "\n",
    "    # Scale data to have mean 0 and variance 1 \n",
    "    # which is importance for convergence of the neural network\n",
    "    scaler = StandardScaler()\n",
    "    X_scaled = scaler.fit_transform(X)\n",
    "\n",
    "    # Split the data set into training and testing\n",
    "    X_train, X_test, Y_train, Y_test = train_test_split(\n",
    "        X_scaled, Y, test_size=0.5, random_state=2)\n",
    "    return X_train, X_test, Y_train, Y_test"
   ]
  },
  {
   "cell_type": "code",
   "execution_count": 3,
   "metadata": {},
   "outputs": [
    {
     "data": {
      "image/png": "[encoded data removed]",
      "text/plain": [
       "<Figure size 1152x432 with 2 Axes>"
      ]
     },
     "metadata": {
      "needs_background": "light"
     },
     "output_type": "display_data"
    }
   ],
   "source": [
    "# Visualize the data sets\n",
    "plt.figure(figsize=(16, 6))\n",
    "plt.subplot(1, 2, 1)\n",
    "for target, target_name in enumerate(names):\n",
    "    X_plot = X[y == target]\n",
    "    plt.plot(X_plot[:, 0], X_plot[:, 1], linestyle='none', marker='o', label=target_name)\n",
    "plt.xlabel(feature_names[0])\n",
    "plt.ylabel(feature_names[1])\n",
    "plt.axis('equal')\n",
    "plt.legend();\n",
    "\n",
    "plt.subplot(1, 2, 2)\n",
    "for target, target_name in enumerate(names):\n",
    "    X_plot = X[y == target]\n",
    "    plt.plot(X_plot[:, 2], X_plot[:, 3], linestyle='none', marker='o', label=target_name)\n",
    "plt.xlabel(feature_names[2])\n",
    "plt.ylabel(feature_names[3])\n",
    "plt.axis('equal')\n",
    "plt.legend();"
   ]
  },
  {
   "cell_type": "markdown",
   "metadata": {},
   "source": [
    "# Define Model"
   ]
  },
  {
   "cell_type": "code",
   "execution_count": 4,
   "metadata": {},
   "outputs": [
    {
     "name": "stdout",
     "output_type": "stream",
     "text": [
      "X (75, 2) (75, 2)\n",
      "Y (75, 3) (75, 3)\n",
      "_________________________________________________________________\n",
      "Layer (type)                 Output Shape              Param #   \n",
      "=================================================================\n",
      "dense_1 (Dense)              (None, 3)                 9         \n",
      "=================================================================\n",
      "Total params: 9\n",
      "Trainable params: 9\n",
      "Non-trainable params: 0\n",
      "_________________________________________________________________\n"
     ]
    },
    {
     "name": "stderr",
     "output_type": "stream",
     "text": [
      "Using TensorFlow backend.\n"
     ]
    }
   ],
   "source": [
    "# In order to ignore FutureWarning\n",
    "import warnings\n",
    "warnings.simplefilter(action='ignore', category=FutureWarning)\n",
    "from tensorflow.keras import initializers\n",
    "\n",
    "from keras.models import Sequential\n",
    "from keras.layers import Dense\n",
    "\n",
    "X_train, X_test, Y_train, Y_test = create_train_test(X[:,[2,3]],y)\n",
    "\n",
    "print(\"X\",X_train.shape,X_test.shape)\n",
    "print(\"Y\",Y_train.shape,Y_test.shape)\n",
    "initializer = initializers.RandomUniform(minval=-2, maxval=2, seed=None)\n",
    "\n",
    "# define baseline model\n",
    "def baseline_model(name):\n",
    "    # create model\n",
    "    model = Sequential(name=name)\n",
    "    model.add(Dense(3, input_dim=X_train.shape[1],activation='softmax',kernel_initializer=initializer))\n",
    "    # Compile model\n",
    "    model.compile(loss='categorical_crossentropy', optimizer='adam', metrics=['accuracy'])\n",
    "    return model\n",
    "\n",
    "baseline_model('model_test').summary()"
   ]
  },
  {
   "cell_type": "markdown",
   "metadata": {},
   "source": [
    "# Train model and write out Predictions"
   ]
  },
  {
   "cell_type": "code",
   "execution_count": null,
   "metadata": {},
   "outputs": [],
   "source": [
    "\n",
    "##Update this to your own path\n",
    "dirpath = '/Users/meslami/Documents/GitRepos/deep_chaos/data/logs/cp_larger_random_weights'\n",
    "\n",
    "Y_preds = []\n",
    "for i in range(100): #--> number of iterations\n",
    "    name = 'model.'+str(i)\n",
    "    cb_mc = ModelCheckpoint(os.path.join(dirpath,\n",
    "                                         name+'-'+'{epoch:02d}-{val_loss:.2f}.hdf5'),\n",
    "                            verbose=1,save_weights_only=True,)\n",
    "    model = baseline_model(name)\n",
    "    history_callback = model.fit(X_train, Y_train,batch_size=5,epochs=150,verbose=0,validation_data=(X_test, Y_test),callbacks=[cb_mc])\n",
    "    score = model.evaluate(X_test, Y_test, verbose=0)\n",
    "    Y_pred = pd.DataFrame(model.predict(X_test),columns=['p1','p2','p3'])\n",
    "    Y_pred['class'] = Y_pred.idxmax(axis=1)\n",
    "    Y_pred['model']=name\n",
    "    Y_preds.append(Y_pred)\n",
    "Y_predsDF = pd.concat(Y_preds)\n",
    "Y_predsDF.to_csv(os.path.join(dirpath,'petal_predictions.csv')"
   ]
  },
  {
   "cell_type": "code",
   "execution_count": null,
   "metadata": {},
   "outputs": [],
   "source": [
    "X_testDF = pd.DataFrame(X_test,columns=['feature1','feature2'])\n",
    "Y_testDF = pd.DataFrame(Y_test,columns=['p1','p2','p3'])\n",
    "Y_testDF['class_actual']=Y_testDF.idxmax(axis=1)\n",
    "testDF =X_testDF.merge(Y_testDF,left_index=True,right_index=True)\n",
    "testDF.drop(['p1','p2','p3'],axis=1,inplace=True)\n",
    "Y_predsDF2=Y_predsDF.merge(testDF,left_index=True,right_index=True)\n",
    "\n",
    "Y_predsDF2.to_csv(os.path.join(dirpath,'petal_predictions.csv')"
   ]
  },
  {
   "cell_type": "markdown",
   "metadata": {},
   "source": [
    "# Extract model weight dynamics"
   ]
  },
  {
   "cell_type": "code",
   "execution_count": null,
   "metadata": {},
   "outputs": [],
   "source": [
    "import os, h5py\n",
    "def get_bias(name):\n",
    "    if 'bias' in name:\n",
    "        print(name)\n",
    "        return name\n",
    "\n",
    "def get_kernel(name):\n",
    "    if 'kernel' in name:\n",
    "        print(name)\n",
    "        return name\n",
    "    \n",
    "model_weights={}\n",
    "for fname in os.listdir(dirpath):\n",
    "    if 'hdf5' in fname:\n",
    "        print(fname)\n",
    "        f = h5py.File(os.path.join(dirpath,fname) 'r')\n",
    "        model_weights[fname]={}\n",
    "#         model_weights[fname]['model_id']=fname[:-5]\n",
    "        model_weights[fname]['model_id']=fname.split('-')[0]\n",
    "        model_weights[fname]['epoch']=fname.split('-')[1]\n",
    "        model_weights[fname]['val_loss']=fname.split('-')[2].replace('.hdf5','')\n",
    "        bias_name = f.visit(get_bias)\n",
    "        model_weights[fname]['bias']=f[bias_name][:]\n",
    "        kernel_name = f.visit(get_kernel)\n",
    "        model_weights[fname]['kernel']=f[kernel_name][:]\n",
    "        \n",
    "df_weights = pd.DataFrame.from_dict(model_weights).T\n",
    "\n",
    "def flatten_array(kk):\n",
    "    flat_list = [item for sublist in kk for item in sublist]\n",
    "    return flat_list\n",
    "\n",
    "def explode_to_cols(df,col_name):\n",
    "    if len(df[col_name].iloc[0].shape)>1:\n",
    "        df[col_name]=df[col_name].apply(flatten_array)\n",
    "    return pd.DataFrame(df[col_name].tolist(),index=df.index,columns=[col_name+'_'+str(i) for i in range(len(df[col_name].iloc[0]))])\n",
    "\n",
    "df_bias = explode_to_cols(df_weights,'bias')\n",
    "df_kernel = explode_to_cols(df_weights,'kernel')\n",
    "\n",
    "df_tot = pd.concat([df_weights,df_bias,df_kernel],axis=1,join='inner')\n",
    "\n",
    "df_tot.drop(['bias','kernel'],axis=1,inplace=True)\n",
    "\n",
    "#Write model dynamics out to file used by next section\n",
    "df_tot.to_csv('/Volumes/GoogleDrive/Shared drives/Deep Chaos/data/petals_9_params/model_dynamics.csv') #--> file to read in"
   ]
  },
  {
   "cell_type": "markdown",
   "metadata": {},
   "source": [
    "# Analyze Model Dynamics with Gaussian Process"
   ]
  },
  {
   "cell_type": "code",
   "execution_count": 17,
   "metadata": {},
   "outputs": [],
   "source": [
    "# Define a Gaussian process\n",
    "def GP(X_train, Y_train):\n",
    "    # fit Gaussian Process with dataset X_train, Y_train\n",
    "    kernel = RBF(0.5, (0.01, 2)) + WhiteKernel()\n",
    "    gp = GaussianProcessRegressor(kernel=kernel)\n",
    "    gp.fit(X_train, Y_train)\n",
    "    return gp"
   ]
  },
  {
   "cell_type": "code",
   "execution_count": 18,
   "metadata": {},
   "outputs": [
    {
     "data": {
      "text/html": [
       "<div>\n",
       "<style scoped>\n",
       "    .dataframe tbody tr th:only-of-type {\n",
       "        vertical-align: middle;\n",
       "    }\n",
       "\n",
       "    .dataframe tbody tr th {\n",
       "        vertical-align: top;\n",
       "    }\n",
       "\n",
       "    .dataframe thead th {\n",
       "        text-align: right;\n",
       "    }\n",
       "</style>\n",
       "<table border=\"1\" class=\"dataframe\">\n",
       "  <thead>\n",
       "    <tr style=\"text-align: right;\">\n",
       "      <th></th>\n",
       "      <th>Unnamed: 0</th>\n",
       "      <th>model_id</th>\n",
       "      <th>epoch</th>\n",
       "      <th>val_loss</th>\n",
       "      <th>bias_0</th>\n",
       "      <th>bias_1</th>\n",
       "      <th>bias_2</th>\n",
       "      <th>kernel_0</th>\n",
       "      <th>kernel_1</th>\n",
       "      <th>kernel_2</th>\n",
       "      <th>kernel_3</th>\n",
       "      <th>kernel_4</th>\n",
       "      <th>kernel_5</th>\n",
       "    </tr>\n",
       "  </thead>\n",
       "  <tbody>\n",
       "    <tr>\n",
       "      <th>0</th>\n",
       "      <td>model.53-109-0.51.hdf5</td>\n",
       "      <td>model.53</td>\n",
       "      <td>109</td>\n",
       "      <td>0.51</td>\n",
       "      <td>-0.184789</td>\n",
       "      <td>0.217462</td>\n",
       "      <td>-0.023773</td>\n",
       "      <td>0.745994</td>\n",
       "      <td>1.968086</td>\n",
       "      <td>0.936559</td>\n",
       "      <td>0.566623</td>\n",
       "      <td>0.913872</td>\n",
       "      <td>2.819305</td>\n",
       "    </tr>\n",
       "    <tr>\n",
       "      <th>1</th>\n",
       "      <td>model.50-65-0.73.hdf5</td>\n",
       "      <td>model.50</td>\n",
       "      <td>65</td>\n",
       "      <td>0.73</td>\n",
       "      <td>-0.071804</td>\n",
       "      <td>0.102633</td>\n",
       "      <td>-0.035136</td>\n",
       "      <td>0.084637</td>\n",
       "      <td>0.617425</td>\n",
       "      <td>2.207724</td>\n",
       "      <td>-0.221958</td>\n",
       "      <td>0.294776</td>\n",
       "      <td>-0.980537</td>\n",
       "    </tr>\n",
       "    <tr>\n",
       "      <th>2</th>\n",
       "      <td>model.98-111-0.38.hdf5</td>\n",
       "      <td>model.98</td>\n",
       "      <td>111</td>\n",
       "      <td>0.38</td>\n",
       "      <td>-0.330612</td>\n",
       "      <td>0.419091</td>\n",
       "      <td>-0.275485</td>\n",
       "      <td>0.029746</td>\n",
       "      <td>2.301435</td>\n",
       "      <td>1.395310</td>\n",
       "      <td>-1.463211</td>\n",
       "      <td>-1.562008</td>\n",
       "      <td>1.041306</td>\n",
       "    </tr>\n",
       "    <tr>\n",
       "      <th>3</th>\n",
       "      <td>model.61-103-1.08.hdf5</td>\n",
       "      <td>model.61</td>\n",
       "      <td>103</td>\n",
       "      <td>1.08</td>\n",
       "      <td>-0.244060</td>\n",
       "      <td>0.143224</td>\n",
       "      <td>0.219129</td>\n",
       "      <td>0.246848</td>\n",
       "      <td>-0.211677</td>\n",
       "      <td>0.194799</td>\n",
       "      <td>-0.245525</td>\n",
       "      <td>-0.203182</td>\n",
       "      <td>0.179519</td>\n",
       "    </tr>\n",
       "  </tbody>\n",
       "</table>\n",
       "</div>"
      ],
      "text/plain": [
       "               Unnamed: 0  model_id  epoch  val_loss    bias_0    bias_1  \\\n",
       "0  model.53-109-0.51.hdf5  model.53    109      0.51 -0.184789  0.217462   \n",
       "1   model.50-65-0.73.hdf5  model.50     65      0.73 -0.071804  0.102633   \n",
       "2  model.98-111-0.38.hdf5  model.98    111      0.38 -0.330612  0.419091   \n",
       "3  model.61-103-1.08.hdf5  model.61    103      1.08 -0.244060  0.143224   \n",
       "\n",
       "     bias_2  kernel_0  kernel_1  kernel_2  kernel_3  kernel_4  kernel_5  \n",
       "0 -0.023773  0.745994  1.968086  0.936559  0.566623  0.913872  2.819305  \n",
       "1 -0.035136  0.084637  0.617425  2.207724 -0.221958  0.294776 -0.980537  \n",
       "2 -0.275485  0.029746  2.301435  1.395310 -1.463211 -1.562008  1.041306  \n",
       "3  0.219129  0.246848 -0.211677  0.194799 -0.245525 -0.203182  0.179519  "
      ]
     },
     "execution_count": 18,
     "metadata": {},
     "output_type": "execute_result"
    }
   ],
   "source": [
    "# Load data from file\n",
    "data = pd.read_csv('/Volumes/GoogleDrive/Shared drives/Deep Chaos/data/petals_9_params/model_dynamics.csv')\n",
    "# data = np.loadtxt('PO_100.dat')\n",
    "data.head(4)"
   ]
  },
  {
   "cell_type": "code",
   "execution_count": 19,
   "metadata": {},
   "outputs": [
    {
     "name": "stdout",
     "output_type": "stream",
     "text": [
      "Index(['Unnamed: 0', 'model_id', 'epoch', 'val_loss', 'bias_0', 'bias_1',\n",
      "       'bias_2', 'kernel_0', 'kernel_1', 'kernel_2', 'kernel_3', 'kernel_4',\n",
      "       'kernel_5'],\n",
      "      dtype='object')\n",
      "150\n"
     ]
    }
   ],
   "source": [
    "print(data.columns)\n",
    "print(data['epoch'].max())"
   ]
  },
  {
   "cell_type": "code",
   "execution_count": 20,
   "metadata": {},
   "outputs": [],
   "source": [
    "X=data.loc[data['epoch']==1,['kernel_0', 'kernel_1', 'kernel_2', 'kernel_3', 'kernel_4','kernel_5']].to_numpy()\n",
    "Y=data.loc[data['epoch']==150,['kernel_0', 'kernel_1', 'kernel_2', 'kernel_3', 'kernel_4','kernel_5']].to_numpy()"
   ]
  },
  {
   "cell_type": "code",
   "execution_count": 21,
   "metadata": {},
   "outputs": [
    {
     "data": {
      "image/png": "[encoded data removed]",
      "text/plain": [
       "<Figure size 432x288 with 1 Axes>"
      ]
     },
     "metadata": {
      "needs_background": "light"
     },
     "output_type": "display_data"
    }
   ],
   "source": [
    "# Plot data\n",
    "plt.plot(X[:,0], X[:,1], 'ro', Y[:,0], Y[:,1], 'b*');"
   ]
  },
  {
   "cell_type": "code",
   "execution_count": 22,
   "metadata": {},
   "outputs": [
    {
     "data": {
      "text/plain": [
       "array([-1.01544929, -1.14266264, -0.91816193, -0.72508198,  1.45847797,\n",
       "        0.52751118])"
      ]
     },
     "execution_count": 22,
     "metadata": {},
     "output_type": "execute_result"
    }
   ],
   "source": [
    "X[0]"
   ]
  },
  {
   "cell_type": "code",
   "execution_count": 23,
   "metadata": {},
   "outputs": [],
   "source": [
    "# Train a GP with the data above\n",
    "gp = GP(X, Y)"
   ]
  },
  {
   "cell_type": "code",
   "execution_count": 24,
   "metadata": {},
   "outputs": [],
   "source": [
    "# Use the GP to define a map F\n",
    "# Notice that the GP takes lists as\n",
    "# input and output, so we need to\n",
    "# add the [] below\n",
    "def F(X):\n",
    "    return gp.predict([X])[0]"
   ]
  },
  {
   "cell_type": "markdown",
   "metadata": {},
   "source": [
    "# Use the map F above to compute the Morse graph"
   ]
  },
  {
   "cell_type": "code",
   "execution_count": 25,
   "metadata": {},
   "outputs": [],
   "source": [
    "# Define the parameters for CMGDB\n",
    "lower_bounds = [data[x].min()-0.5 for x in data.columns if 'kernel' in x]\n",
    "upper_bounds = [data[x].max()+0.5 for x in data.columns if 'kernel' in x]\n",
    "\n",
    "phase_subdiv = 15\n",
    "\n",
    "morse_fname = 'morse_sets.csv'"
   ]
  },
  {
   "cell_type": "code",
   "execution_count": 26,
   "metadata": {},
   "outputs": [
    {
     "data": {
      "text/plain": [
       "([-3.8510761260986333,\n",
       "  -2.70108699798584,\n",
       "  -2.4859955310821533,\n",
       "  -3.672801971435547,\n",
       "  -2.9787161350250244,\n",
       "  -2.48372745513916],\n",
       " [2.467257857322693,\n",
       "  2.8472516536712646,\n",
       "  3.1275596618652344,\n",
       "  2.368074655532837,\n",
       "  2.8085203170776367,\n",
       "  3.8227314949035645])"
      ]
     },
     "execution_count": 26,
     "metadata": {},
     "output_type": "execute_result"
    }
   ],
   "source": [
    "lower_bounds,upper_bounds"
   ]
  },
  {
   "cell_type": "code",
   "execution_count": 27,
   "metadata": {},
   "outputs": [
    {
     "name": "stdout",
     "output_type": "stream",
     "text": [
      "CPU times: user 6min 44s, sys: 1.28 s, total: 6min 45s\n",
      "Wall time: 6min 46s\n"
     ]
    }
   ],
   "source": [
    "%%time\n",
    "model = CMGDB.Model(phase_subdiv, lower_bounds, upper_bounds, F)\n",
    "morse_graph, map_graph = CMGDB.ComputeMorseGraph(model)"
   ]
  },
  {
   "cell_type": "code",
   "execution_count": 28,
   "metadata": {},
   "outputs": [
    {
     "data": {
      "image/svg+xml": [
       "<?xml version=\"1.0\" encoding=\"UTF-8\" standalone=\"no\"?>\n",
       "<!DOCTYPE svg PUBLIC \"-//W3C//DTD SVG 1.1//EN\"\n",
       " \"http://www.w3.org/Graphics/SVG/1.1/DTD/svg11.dtd\">\n",
       "<!-- Generated by graphviz version 2.44.1 (20200629.0846)\n",
       " -->\n",
       "<!-- Pages: 1 -->\n",
       "<svg width=\"62pt\" height=\"44pt\"\n",
       " viewBox=\"0.00 0.00 62.00 44.00\" xmlns=\"http://www.w3.org/2000/svg\" xmlns:xlink=\"http://www.w3.org/1999/xlink\">\n",
       "<g id=\"graph0\" class=\"graph\" transform=\"scale(1 1) rotate(0) translate(4 40)\">\n",
       "<polygon fill=\"white\" stroke=\"transparent\" points=\"-4,4 -4,-40 58,-40 58,4 -4,4\"/>\n",
       "<!-- 0 -->\n",
       "<g id=\"node1\" class=\"node\">\n",
       "<title>0</title>\n",
       "<ellipse fill=\"#0000ff\" stroke=\"black\" cx=\"27\" cy=\"-18\" rx=\"27\" ry=\"18\"/>\n",
       "<text text-anchor=\"middle\" x=\"27\" y=\"-14.3\" font-family=\"Times,serif\" font-size=\"14.00\">0</text>\n",
       "</g>\n",
       "</g>\n",
       "</svg>\n"
      ],
      "text/plain": [
       "<graphviz.files.Source at 0x7f91b08564e0>"
      ]
     },
     "execution_count": 28,
     "metadata": {},
     "output_type": "execute_result"
    }
   ],
   "source": [
    "# Plot Morse graph\n",
    "CMGDB.PlotMorseGraph(morse_graph)"
   ]
  },
  {
   "cell_type": "code",
   "execution_count": 29,
   "metadata": {},
   "outputs": [
    {
     "data": {
      "image/png": "[encoded data removed]",
      "text/plain": [
       "<Figure size 800x800 with 1 Axes>"
      ]
     },
     "metadata": {
      "needs_background": "light"
     },
     "output_type": "display_data"
    }
   ],
   "source": [
    "# Plot Morse sets\n",
    "CMGDB.PlotMorseSets(morse_fname,proj_dims=[0,1])"
   ]
  },
  {
   "cell_type": "code",
   "execution_count": null,
   "metadata": {},
   "outputs": [],
   "source": []
  }
 ],
 "metadata": {
  "kernelspec": {
   "display_name": "Python 3",
   "language": "python",
   "name": "python3"
  },
  "language_info": {
   "codemirror_mode": {
    "name": "ipython",
    "version": 3
   },
   "file_extension": ".py",
   "mimetype": "text/x-python",
   "name": "python",
   "nbconvert_exporter": "python",
   "pygments_lexer": "ipython3",
   "version": "3.6.12"
  },
  "toc": {
   "base_numbering": 1,
   "nav_menu": {},
   "number_sections": true,
   "sideBar": true,
   "skip_h1_title": false,
   "title_cell": "Table of Contents",
   "title_sidebar": "Contents",
   "toc_cell": true,
   "toc_position": {},
   "toc_section_display": true,
   "toc_window_display": false
  }
 },
 "nbformat": 4,
 "nbformat_minor": 2
}
