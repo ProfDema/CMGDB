{
 "cells": [
  {
   "cell_type": "markdown",
   "metadata": {
    "toc": true
   },
   "source": [
    "<h1>Table of Contents<span class=\"tocSkip\"></span></h1>\n",
    "<div class=\"toc\"><ul class=\"toc-item\"></ul></div>"
   ]
  },
  {
   "cell_type": "code",
   "execution_count": 1,
   "metadata": {},
   "outputs": [],
   "source": [
    "import matplotlib.pyplot as plt\n",
    "%matplotlib inline\n",
    "import matplotlib\n",
    "import numpy as np\n",
    "import time\n",
    "import math\n",
    "import csv"
   ]
  },
  {
   "cell_type": "code",
   "execution_count": 2,
   "metadata": {},
   "outputs": [],
   "source": [
    "import CMGDB"
   ]
  },
  {
   "cell_type": "code",
   "execution_count": 3,
   "metadata": {},
   "outputs": [],
   "source": [
    "# Leslie map\n",
    "def F(x):\n",
    "    th1 = 19.6\n",
    "    th2 = 23.68\n",
    "    return [(th1 * x[0] + th2 * x[1]) * math.exp (-0.1 * (x[0] + x[1])), 0.7 * x[0]]"
   ]
  },
  {
   "cell_type": "markdown",
   "metadata": {},
   "source": [
    "In the next example we use only a single level of subdivision. For this we create\n",
    "a model with only one parameter indicating the number of subdivisions. We agian use the\n",
    "Leslie map defined above."
   ]
  },
  {
   "cell_type": "code",
   "execution_count": 6,
   "metadata": {},
   "outputs": [],
   "source": [
    "phase_subdiv = 20\n",
    "lower_bounds = [-0.001, -0.001]\n",
    "upper_bounds = [90.0, 70.0]\n",
    "\n",
    "model = CMGDB.Model(phase_subdiv, lower_bounds, upper_bounds, F)"
   ]
  },
  {
   "cell_type": "markdown",
   "metadata": {},
   "source": [
    "The function below returns the Morse graph and a digraph representing the\n",
    "multi-valued map defined on the grid in phase space. The digraph representing\n",
    "the multi-valued map is computed only on the final grid representing where the\n",
    "Morse sets are computed, hence it only returns the multi-valued map in the whole\n",
    "phase space if the model is constructed with a single level of subdivision as\n",
    "above."
   ]
  },
  {
   "cell_type": "code",
   "execution_count": 7,
   "metadata": {},
   "outputs": [
    {
     "name": "stdout",
     "output_type": "stream",
     "text": [
      "CPU times: user 18.9 s, sys: 146 ms, total: 19.1 s\n",
      "Wall time: 19.1 s\n"
     ]
    }
   ],
   "source": [
    "%%time\n",
    "morse_graph, map_graph = CMGDB.ComputeMorseGraph(model)"
   ]
  },
  {
   "cell_type": "code",
   "execution_count": 51,
   "metadata": {},
   "outputs": [],
   "source": [
    "class IteratedGraph():\n",
    "    def __init__(self,phase_subdiv, lower_bounds, upper_bounds, F=None,map_graph=None,morse_graph=None):\n",
    "        self.phase_subdiv = phase_subdiv\n",
    "        self.lower_bounds = lower_bounds\n",
    "        self.upper_bounds = upper_bounds\n",
    "        \n",
    "        if F:\n",
    "            self.F = F\n",
    "\n",
    "        self.map_graph = map_graph\n",
    "        self.morse_graph = morse_graph\n",
    "        if (not map_graph) or (not morse_graph):\n",
    "            model = CMGDB.Model(phase_subdiv, lower_bounds, upper_bounds, F)\n",
    "            self.morse_graph, self.map_graph = CMGDB.ComputeMorseGraph(model)\n",
    "        self.MORSE_GRAPH = 'morse_graph'\n",
    "        self.MAP_GRAPH = 'map_graph'\n",
    "        \n",
    "    def relabel(self,objs:list):\n",
    "        '''\n",
    "        :param objs: a list of objects\n",
    "        '''\n",
    "        return [(self.phase_subdiv,item) for item in objs]\n",
    "        \n",
    "    def vertices(self,graph_type:str):\n",
    "        if graph_type == self.MORSE_GRAPH:\n",
    "            return self.relabel(self.morse_graph.vertices())\n",
    "        else:\n",
    "            return self.relabel(self.map_graph.vertices())\n",
    "        \n",
    "    def edges(self,graph_type:str):\n",
    "        if graph_type == self.MORSE_GRAPH:\n",
    "            return self.relabel(self.morse_graph.edges())\n",
    "        else:\n",
    "            return self.relabel(self.map_graph.edges())\n",
    "        \n",
    "    def morse_set(self,v_id:int):\n",
    "        return self.relabel(self.morse_graph(v_id))\n",
    "    \n",
    "    def edges_unreduced(self):\n",
    "        return self.relabel(self.morse_graph.edges_unreduced())\n",
    "    \n",
    "    def adjacencies(self,graph_type:str,v_id:int):\n",
    "        if graph_type == self.MORSE_GRAPH:\n",
    "            return self.relabel(self.morse_graph.adjacencies(v_id))\n",
    "        else:\n",
    "            return self.relabel(self.map_graph.adjacencies(v_id))\n",
    "        \n",
    "    def num_vertices(self,graph_type:str):\n",
    "        if graph_type == self.MORSE_GRAPH:\n",
    "            return self.morse_graph.num_vertices()\n",
    "        else:\n",
    "            return self.map_graph.num_vertices()\n",
    "        \n",
    "    def morse_set_boxes(self,v_id:int):\n",
    "        return self.relabel(self.morse_graph.morse_set_boxes(v_id))\n",
    "    \n",
    "    def get_mg_vertex_id(self,ig_vertex:tuple):\n",
    "        return ig_vertex[1]\n",
    "        \n",
    "    \n",
    "    "
   ]
  },
  {
   "cell_type": "code",
   "execution_count": 44,
   "metadata": {},
   "outputs": [],
   "source": [
    "ig = IteratedGraph(phase_subdiv,lower_bounds,upper_bounds,morse_graph=morse_graph,map_graph=map_graph)"
   ]
  },
  {
   "cell_type": "code",
   "execution_count": 45,
   "metadata": {},
   "outputs": [
    {
     "data": {
      "text/plain": [
       "6"
      ]
     },
     "execution_count": 45,
     "metadata": {},
     "output_type": "execute_result"
    }
   ],
   "source": [
    "ig.num_vertices(ig.MORSE_GRAPH)"
   ]
  },
  {
   "cell_type": "code",
   "execution_count": 46,
   "metadata": {},
   "outputs": [
    {
     "data": {
      "text/plain": [
       "[(20, 0), (20, 1), (20, 2), (20, 3), (20, 4), (20, 5)]"
      ]
     },
     "execution_count": 46,
     "metadata": {},
     "output_type": "execute_result"
    }
   ],
   "source": [
    "ig.vertices(ig.MORSE_GRAPH)"
   ]
  },
  {
   "cell_type": "code",
   "execution_count": 47,
   "metadata": {},
   "outputs": [
    {
     "data": {
      "text/plain": [
       "[(20, (5, 0)),\n",
       " (20, (5, 1)),\n",
       " (20, (5, 4)),\n",
       " (20, (3, 2)),\n",
       " (20, (2, 0)),\n",
       " (20, (5, 2)),\n",
       " (20, (2, 1)),\n",
       " (20, (5, 3)),\n",
       " (20, (4, 0)),\n",
       " (20, (3, 0)),\n",
       " (20, (3, 1))]"
      ]
     },
     "execution_count": 47,
     "metadata": {},
     "output_type": "execute_result"
    }
   ],
   "source": [
    "ig.edges_unreduced()"
   ]
  },
  {
   "cell_type": "code",
   "execution_count": 50,
   "metadata": {},
   "outputs": [
    {
     "data": {
      "text/plain": [
       "[(20, (2, 1)),\n",
       " (20, (2, 0)),\n",
       " (20, (3, 2)),\n",
       " (20, (4, 0)),\n",
       " (20, (5, 3)),\n",
       " (20, (5, 4))]"
      ]
     },
     "execution_count": 50,
     "metadata": {},
     "output_type": "execute_result"
    }
   ],
   "source": [
    "ig.edges(ig.MORSE_GRAPH)"
   ]
  },
  {
   "cell_type": "code",
   "execution_count": null,
   "metadata": {},
   "outputs": [],
   "source": [
    "class CompositeGraph():\n",
    "    def __init__(self,ig1:IteratedGraph,ig2:IteratedGraph):\n",
    "        self.ig1 = ig1\n",
    "        self.ig2 = ig2\n",
    "        \n",
    "    def _get_intervals(self,morse_set_boxes):\n",
    "        for i,item in enumerate(morse_set_boxes):\n",
    "            if i == 0:\n",
    "                mg_x = interval([item[2][0],item[2][2]])\n",
    "                mg_y = interval([item[2][1],item[2][3]])\n",
    "                continue\n",
    "            mg_x = mg_x | interval([item[2][0],item[2][2]])\n",
    "            mg_y = mg_y | interval([item[2][1],item[2][3]])\n",
    "        return mg_x,mg_y\n",
    "    \n",
    "    \n",
    "    def forward(self,v:int):\n",
    "        '''\n",
    "        Move from coarse to fine\n",
    "        '''\n",
    "        if ig1.phase_subdiv < ig2.phase_subdiv:\n",
    "            print('IG1 is more coarse than IG2. It will be set to graph 1...')\n",
    "            print()\n",
    "            graph1 = self.ig1\n",
    "            graph2 = self.ig2\n",
    "        else:\n",
    "            print('IG2 is more coarse than IG1. It will be set to graph 1...')\n",
    "            print()\n",
    "            graph1 = self.ig2\n",
    "            graph2 = self.ig1\n",
    "        self._traverse(graph1,graph2,v)\n",
    "        \n",
    "    def backward(self,v:int):\n",
    "        '''\n",
    "        Move from fine to coarse\n",
    "        '''\n",
    "        if self.ig1.phase_subdiv > self.ig2.phase_subdiv:\n",
    "            print('IG1 is more coarse than IG2. It will be set to graph 1...')\n",
    "            print()\n",
    "            graph1 = self.ig1\n",
    "            graph2 = self.ig2\n",
    "        else:\n",
    "            print('IG2 is more coarse than IG1. It will be set to graph 1...')\n",
    "            print()\n",
    "            graph1 = self.ig2\n",
    "            graph2 = self.ig1\n",
    "            \n",
    "    #Returns true if two rectangles (l1, r1) and (l2, r2) overlap \n",
    "    def _doOverlap(self,box1,box2):\n",
    "        l1x,l1y,r1x,r1y = box1\n",
    "        l2x,l2y,r2x,r2y = box2\n",
    "        # If one rectangle is on left side of other \n",
    "        if (l1x >= r2x) | (l2x >= r1x) \n",
    "            return false \n",
    "\n",
    "        #If one rectangle is above other \n",
    "        if (l1y <= r2y) | (l2y <= r1y) \n",
    "            return false \n",
    "\n",
    "        return true \n",
    "   \n",
    "    def _traverse(self,graph1,graph2,v):\n",
    "        '''\n",
    "        A traversal will return all graph 2 nodes that v in graph 1 connects to\n",
    "        '''\n",
    "        morse_set_boxes_1 = graph1.morse_set_boxes(v)\n",
    "        mg1_x,mg1_y = self._get_intervals(morse_set_boxes_1)\n",
    "        \n",
    "        # Check if graph2 nodes are in the interval of graph 1. If they are, return those nodes:\n",
    "        vertices = []\n",
    "        for item in graph2.vertices():\n",
    "            morse_set_boxes_2 = graph2.morse_set_boxes(item[2])\n",
    "            mg2_x,mg2_y = self._get_intervals(morse_set_boxes_2)\n",
    "            \n",
    "\n",
    "        \n",
    "            \n",
    "        \n",
    "            \n",
    "        "
   ]
  }
 ],
 "metadata": {
  "kernelspec": {
   "display_name": "Python 3",
   "language": "python",
   "name": "python3"
  },
  "language_info": {
   "codemirror_mode": {
    "name": "ipython",
    "version": 3
   },
   "file_extension": ".py",
   "mimetype": "text/x-python",
   "name": "python",
   "nbconvert_exporter": "python",
   "pygments_lexer": "ipython3",
   "version": "3.6.6"
  },
  "toc": {
   "base_numbering": 1,
   "nav_menu": {},
   "number_sections": true,
   "sideBar": true,
   "skip_h1_title": false,
   "title_cell": "Table of Contents",
   "title_sidebar": "Contents",
   "toc_cell": true,
   "toc_position": {},
   "toc_section_display": true,
   "toc_window_display": false
  }
 },
 "nbformat": 4,
 "nbformat_minor": 2
}
